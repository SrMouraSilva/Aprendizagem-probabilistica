{
  "nbformat": 4,
  "nbformat_minor": 0,
  "metadata": {
    "colab": {
      "name": "Trabalho 3 - Naive Bayes.ipynb",
      "provenance": [],
      "collapsed_sections": [],
      "toc_visible": true,
      "authorship_tag": "ABX9TyMim1pdw1Rx5R7Nyf8fu90r",
      "include_colab_link": true
    },
    "kernelspec": {
      "name": "python3",
      "display_name": "Python 3"
    }
  },
  "cells": [
    {
      "cell_type": "markdown",
      "metadata": {
        "id": "view-in-github",
        "colab_type": "text"
      },
      "source": [
        "<a href=\"https://colab.research.google.com/github/SrMouraSilva/Aprendizagem-probabilistica/blob/main/Trabalho_3_Naive_Bayes.ipynb\" target=\"_parent\"><img src=\"https://colab.research.google.com/assets/colab-badge.svg\" alt=\"Open In Colab\"/></a>"
      ]
    },
    {
      "cell_type": "markdown",
      "metadata": {
        "id": "HBs3OEd1D8op"
      },
      "source": [
        "Por favor, veja esse arquivo online em: https://colab.research.google.com/drive/12a2rHvlfnl8tyf-EH9LSiUCSlC1zYLDW?usp=sharing"
      ]
    },
    {
      "cell_type": "code",
      "metadata": {
        "colab": {
          "base_uri": "https://localhost:8080/",
          "height": 17
        },
        "id": "WP9flQUxD8fT",
        "outputId": "d96220c6-b1e1-40b8-93f4-0b8bfd3236fd"
      },
      "source": [
        "# Programação simbólica\n",
        "import sympy as sp\n",
        "from sympy.plotting import plot, plot3d\n",
        " \n",
        "# Exibir símbolos nas células\n",
        "from google.colab.output._publish import javascript\n",
        "url = \"https://cdnjs.cloudflare.com/ajax/libs/mathjax/3.1.2/latest.js?config=default\"\n",
        " \n",
        "javascript(url=url)\n",
        "from IPython.display import Math\n",
        " \n",
        "# Manipulação dos dados\n",
        "import numpy as np\n",
        "import pandas as pd\n",
        " \n",
        "# Gráficos\n",
        "import matplotlib as mpl\n",
        "import matplotlib.pyplot as plt\n",
        " \n",
        "import seaborn as sns\n",
        "sns.set_theme()"
      ],
      "execution_count": null,
      "outputs": [
        {
          "output_type": "display_data",
          "data": {
            "text/html": [
              "<script src='https://cdnjs.cloudflare.com/ajax/libs/mathjax/3.1.2/latest.js?config=default'></script>"
            ],
            "text/plain": [
              "<IPython.core.display.HTML object>"
            ]
          },
          "metadata": {
            "tags": []
          }
        }
      ]
    },
    {
      "cell_type": "code",
      "metadata": {
        "id": "kiw2RByPECJn"
      },
      "source": [
        "# Ajustes nas configurações padrões dos plots\n",
        "mpl.rcParams['figure.figsize'] = (8, 8)\n",
        "mpl.rcParams['font.size'] = 14\n",
        "mpl.rcParams['legend.fontsize'] = 14"
      ],
      "execution_count": null,
      "outputs": []
    },
    {
      "cell_type": "markdown",
      "metadata": {
        "id": "0o0bW_MaEFGd"
      },
      "source": [
        "Universidade Federal do Ceará\n",
        "* **Disciplina**: TÓPICOS AVANÇADOS EM APRENDIZAGEM DE MÁQUINA / TÓPICOS ESPECIAIS EM LÓGICA II\n",
        "* **Código**: CK0255/CKP8377\n",
        "* **Professores**: João Paulo P. Gomes / César Lincoln C. Mattos\n",
        "* **Semestre**: 2020.2\n",
        "* **Discente**: Paulo Mateus M. da Silva\n",
        "* **Matrícula**: 486351\n",
        "* **Curso**: Ciência da Computação\n",
        "\n",
        "# Trabalho 3\n",
        "\n",
        "> **Leia as instruções:**\n",
        "> \n",
        "> * O trabalho é individual.\n",
        "> * As simulações poderão ser realizadas em quaiquer linguagens de programação.\n",
        "> * Para a avaliação do trabalho deverá ser submetido um arquivo pdf com texto e figuras referentes aos\n",
        "resultados das simulações.\n",
        "> * Para a avaliação do trabalho deverão ser enviados os códigos fonte.\n"
      ]
    },
    {
      "cell_type": "markdown",
      "metadata": {
        "id": "wtrrcGy6Eovq"
      },
      "source": [
        "## Item 1. Implemente um modelo de Naive Bayes (abordagem Bayesiana) para os dados disponı́veis em `votes_dataset.csv`.\n",
        "\n",
        "* Os dados consistem nos votos (atributos binários) de deputados dos EUA [em projetos de lei ou algo similar]. A tarefa é prever se\n",
        "um determinado deputado é democrata ou republicano com base nos seus votos.\n",
        "* Apresente a matriz de confusão para os dados de teste."
      ]
    },
    {
      "cell_type": "markdown",
      "metadata": {
        "id": "8ya7OC9ZE7S4"
      },
      "source": [
        "### Arquivo `votes_dataset.csv`\n",
        "\n",
        "**Obs**: Adicionei uma linha cabeçalho"
      ]
    },
    {
      "cell_type": "code",
      "metadata": {
        "colab": {
          "base_uri": "https://localhost:8080/",
          "height": 424
        },
        "cellView": "form",
        "id": "dKTy3YKDEoNO",
        "outputId": "ea27bd6e-8494-45df-f2c8-fec0376b426b"
      },
      "source": [
        "#@markdown\n",
        "import csv\n",
        "from io import StringIO\n",
        "\n",
        "votes_dataset = \"\"\"\n",
        "republican,0,1,0,1,1,1,0,0,0,1,0,1,1,0,0,1\n",
        "republican,0,1,0,1,1,1,0,0,0,0,0,1,1,0,0,1\n",
        "democrat,0,1,1,0,1,1,0,0,0,0,1,0,1,0,0,0\n",
        "democrat,0,1,1,0,1,1,0,0,0,0,1,0,1,0,0,1\n",
        "democrat,1,1,1,0,1,1,0,0,0,0,1,0,1,0,1,1\n",
        "democrat,0,1,1,0,1,1,0,0,0,0,0,0,1,0,1,1\n",
        "democrat,0,1,0,1,1,1,0,0,0,0,0,0,1,0,1,1\n",
        "republican,0,1,0,1,1,1,0,0,0,0,0,0,1,0,0,1\n",
        "republican,0,1,0,1,1,1,0,0,0,0,0,1,1,0,0,1\n",
        "democrat,1,1,1,0,0,0,1,1,1,0,0,0,0,1,0,1\n",
        "republican,0,1,0,1,1,0,0,0,0,0,0,0,1,0,0,0\n",
        "republican,0,1,0,1,1,1,0,0,0,0,1,0,1,0,0,1\n",
        "democrat,0,1,1,0,0,0,1,1,1,0,0,0,1,1,0,1\n",
        "democrat,1,1,1,0,0,1,1,1,0,1,1,0,0,1,1,1\n",
        "republican,0,1,0,1,1,1,0,0,0,0,0,1,1,0,0,1\n",
        "republican,0,1,0,1,1,1,0,0,0,1,0,1,1,0,0,1\n",
        "democrat,1,0,1,0,0,1,0,1,0,1,1,1,1,0,0,1\n",
        "democrat,1,0,1,0,0,0,1,1,1,0,0,0,1,1,1,1\n",
        "republican,0,1,0,1,1,1,0,0,0,0,0,0,1,0,0,0\n",
        "democrat,1,1,1,0,0,0,1,1,1,0,1,0,0,1,1,1\n",
        "democrat,1,1,1,0,0,1,1,1,0,0,1,0,0,1,1,1\n",
        "democrat,1,1,1,0,0,0,1,1,1,0,0,0,1,1,1,1\n",
        "democrat,1,0,1,0,0,0,1,1,1,0,0,0,0,1,1,1\n",
        "democrat,1,1,1,0,0,0,1,1,1,0,0,0,0,1,1,1\n",
        "democrat,1,0,1,0,0,0,1,1,1,0,0,0,0,1,1,1\n",
        "democrat,1,0,1,0,0,0,1,1,1,1,0,0,0,1,1,1\n",
        "democrat,1,0,1,0,0,0,1,1,1,0,1,0,0,1,1,1\n",
        "democrat,1,1,1,0,0,0,1,1,1,0,1,0,0,1,1,1\n",
        "republican,1,0,0,1,1,0,1,1,1,0,0,1,1,1,0,1\n",
        "democrat,1,1,1,0,0,0,1,1,1,0,1,0,0,1,1,1\n",
        "republican,0,1,0,1,1,1,0,0,0,0,0,1,1,0,0,0\n",
        "democrat,1,1,1,0,0,0,1,1,1,0,1,0,0,1,1,1\n",
        "democrat,1,1,1,0,0,0,1,1,1,1,0,0,1,1,1,1\n",
        "republican,0,1,0,1,1,1,0,0,0,0,0,1,1,0,0,1\n",
        "democrat,1,1,1,0,0,0,1,1,1,0,0,0,0,1,1,1\n",
        "republican,0,1,0,1,1,1,0,0,0,0,0,1,1,0,0,0\n",
        "republican,1,0,0,1,1,1,0,0,0,1,0,1,1,0,0,1\n",
        "republican,1,1,0,1,1,1,0,0,0,0,0,0,1,0,0,1\n",
        "republican,0,1,0,1,1,1,0,0,0,1,0,1,1,0,0,0\n",
        "democrat,1,0,1,0,0,0,1,1,1,1,1,0,1,1,1,1\n",
        "democrat,1,1,1,0,0,0,1,1,1,0,0,0,0,1,0,1\n",
        "democrat,1,1,1,0,0,0,1,1,1,0,0,0,0,1,1,1\n",
        "democrat,1,0,1,0,0,0,1,1,1,0,0,0,0,1,0,1\n",
        "democrat,1,0,1,0,0,0,1,1,1,0,0,0,0,1,1,1\n",
        "democrat,1,1,1,0,0,0,1,1,1,0,1,0,0,1,0,1\n",
        "democrat,1,1,1,0,0,0,1,1,0,0,1,0,0,1,1,1\n",
        "democrat,1,1,1,0,0,0,1,1,1,0,0,0,0,1,0,1\n",
        "democrat,1,0,1,0,0,0,1,1,0,0,0,0,0,1,0,1\n",
        "democrat,1,1,1,0,0,0,1,1,0,0,0,0,0,1,0,1\n",
        "republican,0,0,0,1,1,1,0,0,0,0,0,1,1,0,0,0\n",
        "democrat,1,1,1,0,0,0,1,1,1,0,1,0,0,1,1,1\n",
        "republican,0,1,0,1,1,1,0,1,0,0,0,1,1,0,0,1\n",
        "democrat,1,1,1,0,0,0,1,1,1,0,0,0,0,1,0,1\n",
        "republican,1,1,0,1,1,1,0,0,0,1,0,1,1,0,0,0\n",
        "democrat,1,1,1,0,0,1,1,1,0,0,1,1,0,1,0,1\n",
        "republican,0,1,0,1,1,1,0,0,0,1,1,1,1,0,0,0\n",
        "republican,0,1,0,1,1,1,0,0,0,1,1,1,1,0,0,1\n",
        "republican,0,1,0,1,1,1,0,0,0,1,0,1,1,0,0,1\n",
        "republican,0,1,0,1,1,1,0,0,0,1,0,1,1,0,0,1\n",
        "republican,0,1,0,1,1,1,0,0,0,1,0,1,1,0,0,1\n",
        "democrat,1,1,1,0,0,1,1,1,1,1,0,0,0,1,1,1\n",
        "republican,0,1,0,1,1,1,0,0,0,0,0,1,1,0,0,0\n",
        "democrat,1,1,1,0,0,0,1,1,1,0,0,0,0,1,0,1\n",
        "democrat,1,1,1,0,0,0,1,1,1,0,1,0,0,1,0,1\n",
        "democrat,1,1,1,0,0,0,1,1,1,0,1,0,0,1,0,1\n",
        "republican,1,1,0,1,1,1,1,0,0,0,0,1,1,1,0,1\n",
        "republican,0,1,0,1,1,1,1,0,0,0,1,1,1,1,0,1\n",
        "republican,0,1,0,1,1,1,0,0,0,1,0,1,1,0,0,0\n",
        "democrat,1,0,1,0,0,0,1,1,1,0,0,0,1,1,1,1\n",
        "democrat,1,1,1,0,0,0,1,1,1,0,0,0,0,1,1,1\n",
        "democrat,1,0,1,0,0,0,1,1,1,0,0,0,1,1,1,1\n",
        "republican,1,1,1,1,0,0,1,1,1,1,1,0,0,1,0,1\n",
        "democrat,1,1,1,0,0,0,1,1,1,0,1,0,0,1,1,1\n",
        "republican,1,0,1,1,1,0,1,0,1,1,0,0,1,1,0,1\n",
        "democrat,1,0,1,0,0,1,1,1,1,1,1,0,0,1,1,1\n",
        "democrat,0,1,1,1,1,1,0,0,0,1,1,0,1,0,0,0\n",
        "democrat,0,1,1,0,1,1,0,0,0,1,1,1,1,0,0,1\n",
        "democrat,0,1,1,1,1,1,0,1,1,1,1,1,1,0,0,1\n",
        "democrat,1,1,1,0,1,1,0,0,0,1,1,0,1,0,0,1\n",
        "republican,0,0,0,1,1,0,0,0,0,1,0,1,1,0,0,0\n",
        "democrat,1,0,1,0,0,1,1,1,1,1,0,1,0,1,0,1\n",
        "democrat,1,0,1,0,0,0,1,1,0,1,1,1,0,1,0,1\n",
        "republican,0,0,0,1,1,1,0,0,0,1,0,1,1,0,0,1\n",
        "republican,0,0,0,1,1,1,0,0,0,0,0,1,1,0,0,0\n",
        "republican,0,0,0,1,1,1,0,0,0,1,0,1,1,0,0,0\n",
        "democrat,0,0,1,0,1,1,0,0,0,1,1,1,1,0,0,1\n",
        "republican,0,0,0,1,1,1,0,0,0,1,0,1,1,0,0,0\n",
        "republican,0,0,0,1,1,1,0,0,0,0,0,1,1,0,0,0\n",
        "democrat,0,1,1,0,1,1,1,0,1,1,1,0,1,1,0,1\n",
        "republican,0,0,0,1,1,1,0,0,0,1,0,0,1,0,0,1\n",
        "democrat,1,0,1,0,0,0,1,1,1,1,0,0,0,1,1,1\n",
        "democrat,1,0,1,0,0,0,1,1,1,1,1,0,0,1,1,1\n",
        "democrat,1,1,1,0,0,0,1,1,0,1,1,0,0,1,1,1\n",
        "democrat,1,0,1,0,0,0,1,0,1,1,1,0,0,1,1,1\n",
        "democrat,1,0,1,0,1,1,0,0,0,0,0,0,0,0,0,1\n",
        "democrat,1,0,1,0,1,1,0,1,0,0,1,0,1,0,1,1\n",
        "democrat,0,0,1,0,1,1,0,0,0,0,1,1,1,0,0,1\n",
        "democrat,1,0,0,0,1,1,1,0,0,1,1,0,0,1,0,1\n",
        "democrat,1,1,1,0,0,1,1,1,1,1,0,0,0,1,0,1\n",
        "republican,0,0,0,1,1,1,0,0,0,1,0,1,1,0,0,0\n",
        "democrat,1,0,0,0,1,1,0,0,0,0,1,1,0,0,0,1\n",
        "democrat,1,0,1,0,1,1,1,0,0,0,1,0,0,1,0,1\n",
        "democrat,1,0,1,0,1,1,1,0,0,0,1,0,1,1,1,1\n",
        "democrat,1,0,0,0,1,1,1,0,0,0,0,0,0,1,0,0\n",
        "democrat,0,0,1,0,0,1,1,1,1,1,0,0,1,1,0,1\n",
        "democrat,1,1,1,0,0,0,0,1,1,0,1,0,0,0,1,1\n",
        "republican,0,1,0,1,1,1,0,0,0,0,0,1,1,0,0,1\n",
        "republican,0,0,1,0,1,1,1,1,0,1,0,0,1,1,0,1\n",
        "democrat,1,0,1,0,0,0,1,1,1,0,0,0,0,1,1,1\n",
        "democrat,1,0,1,0,0,0,1,1,1,0,0,0,0,1,1,1\n",
        "democrat,0,0,1,0,0,0,1,1,1,1,0,0,0,1,1,1\n",
        "republican,0,0,0,1,1,1,0,0,0,1,0,1,1,0,0,1\n",
        "democrat,0,0,1,0,0,1,1,1,0,1,0,0,0,1,1,1\n",
        "republican,0,0,0,1,1,1,0,0,0,1,0,1,1,0,0,0\n",
        "democrat,1,0,1,0,0,0,1,1,1,0,0,0,0,1,1,1\n",
        "democrat,0,0,1,0,1,1,1,1,1,1,0,0,0,1,1,1\n",
        "democrat,1,0,1,0,0,0,1,1,1,0,1,0,0,1,1,1\n",
        "republican,1,1,1,1,1,0,1,0,0,0,0,1,1,1,0,1\n",
        "democrat,0,1,1,0,0,0,0,1,1,1,1,0,0,0,1,1\n",
        "republican,0,0,0,1,1,1,0,0,0,0,0,1,1,0,0,0\n",
        "republican,0,0,1,1,1,1,0,0,0,1,0,1,1,0,0,1\n",
        "republican,0,0,0,1,1,1,0,0,0,1,0,1,1,0,0,1\n",
        "republican,0,0,0,1,1,1,0,0,0,1,0,1,0,0,0,1\n",
        "republican,1,0,0,1,1,1,0,1,0,0,0,1,1,0,0,1\n",
        "democrat,0,0,1,0,0,0,1,1,1,0,0,0,0,1,1,1\n",
        "republican,0,0,0,1,1,1,0,0,0,1,0,1,1,0,0,1\n",
        "republican,0,0,0,1,1,1,0,0,0,0,0,1,1,0,0,0\n",
        "democrat,0,0,1,0,0,0,1,1,1,1,1,0,0,1,1,1\n",
        "democrat,0,0,1,0,0,1,0,1,0,1,1,0,0,0,1,1\n",
        "democrat,0,0,1,0,0,0,1,1,0,0,0,0,1,1,0,1\n",
        "democrat,1,0,1,0,1,1,1,1,1,0,0,0,0,1,1,1\n",
        "democrat,0,0,1,0,0,1,0,1,1,1,0,0,0,0,0,1\n",
        "republican,0,0,0,1,1,1,0,0,0,1,0,1,1,0,0,1\n",
        "republican,0,0,0,1,1,1,0,0,0,1,0,1,1,0,0,1\n",
        "republican,0,0,0,1,1,1,0,0,0,0,0,1,1,0,0,1\n",
        "republican,0,0,0,1,1,1,0,0,0,1,0,1,1,0,0,0\n",
        "republican,0,1,0,1,1,1,0,0,0,1,1,1,1,0,0,1\n",
        "democrat,0,0,1,0,0,1,1,1,1,1,0,0,0,1,1,1\n",
        "democrat,0,0,1,0,0,1,1,1,1,1,0,0,0,1,0,1\n",
        "democrat,1,0,1,0,0,1,1,1,1,0,0,0,0,1,1,1\n",
        "republican,0,0,0,1,0,0,1,1,1,1,0,0,1,1,0,1\n",
        "republican,0,0,0,1,1,1,1,1,1,1,0,1,1,1,0,1\n",
        "republican,0,0,0,1,1,1,1,1,1,1,0,1,1,1,0,1\n",
        "democrat,0,1,0,0,0,0,1,1,1,1,1,0,0,1,1,1\n",
        "democrat,0,0,0,0,0,1,1,1,1,1,0,0,0,1,0,1\n",
        "democrat,0,0,1,0,0,1,1,1,1,1,0,0,0,1,0,1\n",
        "republican,0,1,0,1,1,1,0,0,0,0,0,1,1,0,0,1\n",
        "democrat,0,0,0,0,0,0,1,1,1,1,0,1,1,1,1,1\n",
        "republican,0,1,0,1,1,1,0,0,0,1,1,1,1,0,0,1\n",
        "democrat,0,0,1,0,0,0,1,1,1,1,0,0,1,1,1,1\n",
        "republican,1,1,0,1,1,1,0,0,0,1,0,1,1,0,0,1\n",
        "democrat,1,1,1,1,1,1,0,0,1,0,1,0,1,0,0,0\n",
        "democrat,0,1,1,0,0,1,0,1,1,1,1,0,1,0,1,1\n",
        "democrat,0,0,1,0,0,1,1,1,1,1,1,0,1,1,0,1\n",
        "republican,0,1,0,1,1,1,0,0,0,0,0,1,1,0,0,0\n",
        "republican,1,1,0,1,1,1,0,1,0,0,1,1,1,0,0,0\n",
        "republican,1,1,0,1,1,1,1,0,0,0,0,1,1,1,0,0\n",
        "democrat,0,1,1,0,0,1,0,1,1,0,1,0,1,0,0,1\n",
        "republican,0,1,0,1,1,1,0,0,0,1,0,1,1,0,0,0\n",
        "democrat,0,1,1,0,1,1,1,1,1,1,1,0,0,1,0,1\n",
        "democrat,0,1,0,0,1,1,0,0,0,0,0,1,1,0,1,1\n",
        "democrat,0,0,0,0,1,1,1,0,0,0,0,1,1,1,0,1\n",
        "democrat,0,1,1,0,1,1,1,0,0,0,1,1,1,1,0,1\n",
        "republican,0,1,0,1,1,1,1,0,0,0,0,1,1,1,0,1\n",
        "democrat,1,1,0,0,1,1,0,0,0,1,1,1,1,0,0,1\n",
        "democrat,0,1,1,0,0,1,1,1,1,1,1,0,1,1,1,1\n",
        "republican,1,0,1,1,1,1,1,1,0,1,0,1,0,1,1,1\n",
        "republican,1,0,1,1,1,1,1,1,0,1,1,1,0,1,1,1\n",
        "democrat,0,0,1,1,1,1,0,0,1,0,0,0,1,0,1,1\n",
        "democrat,1,0,1,0,0,0,1,1,1,1,1,0,0,1,0,1\n",
        "democrat,1,0,1,0,0,0,1,1,1,1,0,0,0,1,1,1\n",
        "republican,0,0,0,1,1,1,0,0,0,1,0,1,1,0,0,1\n",
        "democrat,0,1,1,0,0,0,1,1,1,1,0,0,1,1,1,1\n",
        "democrat,0,0,0,0,1,1,0,0,0,1,1,1,1,0,0,1\n",
        "democrat,1,0,1,0,0,0,1,1,1,0,0,0,0,1,1,1\n",
        "democrat,0,1,1,0,0,0,1,1,1,1,0,0,0,1,1,1\n",
        "republican,0,0,1,1,0,0,1,1,1,1,0,0,0,1,1,1\n",
        "democrat,0,0,1,0,0,0,1,1,1,1,1,0,0,1,1,1\n",
        "democrat,0,0,1,0,0,0,1,1,1,1,1,0,0,1,1,1\n",
        "democrat,1,0,1,0,0,0,1,1,1,1,0,0,0,1,1,1\n",
        "democrat,0,0,1,0,0,0,1,1,1,1,0,0,0,1,0,1\n",
        "democrat,0,0,1,0,0,0,1,1,1,1,1,0,0,1,1,1\n",
        "democrat,1,0,1,0,0,0,1,1,1,0,0,0,0,1,1,1\n",
        "democrat,0,0,1,0,1,1,1,1,1,1,0,0,1,1,0,1\n",
        "democrat,0,0,1,0,0,0,1,1,1,1,1,0,0,1,1,1\n",
        "democrat,1,0,1,0,0,0,1,1,1,1,0,0,0,1,1,1\n",
        "democrat,0,1,1,0,0,0,1,1,1,1,1,0,0,1,1,1\n",
        "democrat,1,0,1,0,0,0,1,1,1,0,0,0,0,1,1,1\n",
        "republican,1,0,0,1,1,1,1,1,0,0,0,1,1,1,0,1\n",
        "democrat,1,0,1,0,0,0,1,1,1,0,0,0,0,1,1,1\n",
        "republican,0,0,0,1,1,1,0,0,0,0,0,1,1,0,0,1\n",
        "republican,0,1,0,1,1,1,0,1,0,1,0,1,1,0,0,1\n",
        "democrat,0,0,0,0,0,1,1,1,1,0,1,0,0,1,1,1\n",
        "democrat,0,0,1,0,0,0,1,1,1,0,0,0,0,1,1,1\n",
        "democrat,0,0,1,0,0,1,1,1,1,1,1,0,0,1,1,1\n",
        "republican,0,0,0,1,1,1,0,0,0,0,0,1,1,0,0,1\n",
        "democrat,0,0,1,0,0,1,1,1,1,0,1,1,0,1,1,1\n",
        "republican,0,0,1,1,1,1,0,0,0,1,0,0,0,0,0,1\n",
        "democrat,0,0,1,0,0,0,1,1,1,1,1,0,1,1,1,1\n",
        "democrat,1,1,0,0,0,0,1,1,0,0,1,0,0,1,1,1\n",
        "democrat,0,0,1,0,0,0,1,1,1,0,0,0,0,1,1,1\n",
        "democrat,1,1,1,0,0,0,1,1,1,0,0,0,0,1,1,1\n",
        "democrat,1,0,1,0,0,1,1,1,1,1,1,0,0,1,1,1\n",
        "democrat,1,0,1,0,0,0,1,1,1,1,0,0,0,1,1,1\n",
        "republican,0,0,1,1,1,1,1,0,0,0,0,1,1,1,0,1\n",
        "democrat,0,0,1,0,0,1,1,1,1,1,0,1,0,1,0,1\n",
        "republican,0,0,0,1,1,1,0,0,0,1,0,1,0,0,0,1\n",
        "republican,1,0,0,1,1,1,1,0,0,1,0,1,1,1,0,1\n",
        "democrat,0,0,1,0,0,0,1,1,1,0,0,0,0,1,1,1\n",
        "democrat,1,1,1,0,0,0,1,1,1,1,1,0,0,1,0,1\n",
        "democrat,0,0,1,0,0,1,1,1,1,0,0,0,0,1,1,1\n",
        "republican,0,1,0,1,1,1,0,0,0,1,0,1,1,0,0,1\n",
        "democrat,0,0,1,0,0,0,1,1,1,0,1,0,0,1,1,1\n",
        "democrat,0,1,1,0,0,1,0,1,1,0,1,0,1,0,1,1\n",
        "republican,1,1,0,1,1,1,0,0,0,1,0,1,1,0,0,1\n",
        "democrat,0,1,1,1,1,1,0,0,0,1,1,1,1,0,1,1\n",
        "democrat,1,1,1,0,1,1,0,0,0,1,0,0,0,0,1,1\n",
        "republican,0,1,0,1,1,1,0,0,0,1,0,1,1,0,0,0\n",
        "democrat,1,0,1,0,0,0,1,1,1,0,0,0,0,1,1,1\n",
        "democrat,0,1,1,0,0,0,0,1,1,0,1,0,0,0,1,1\n",
        "democrat,0,0,1,0,0,0,1,1,1,0,0,0,0,1,1,1\n",
        "democrat,0,1,1,0,1,1,0,0,0,0,1,0,0,0,1,1\n",
        "democrat,1,0,1,0,0,0,1,1,1,0,1,0,0,1,1,1\n",
        "republican,0,0,0,1,1,0,0,0,0,0,0,1,1,0,0,1\n",
        "republican,0,1,0,1,1,1,0,0,0,1,0,0,1,0,0,0\n",
        "republican,0,0,0,1,1,1,0,0,0,0,0,1,1,0,0,1\n",
        "democrat,0,0,1,0,0,1,1,1,1,0,1,0,0,1,1,1\n",
        "democrat,1,0,1,0,0,0,1,1,1,0,0,0,0,1,0,1\n",
        "republican,0,1,0,1,1,1,0,0,0,0,0,1,1,0,0,1\n",
        "republican,0,1,1,1,1,1,1,0,1,1,0,1,1,1,0,1\n",
        "republican,0,1,0,1,1,1,0,0,0,0,0,1,1,0,0,1\n",
        "republican,0,1,0,1,1,1,0,0,1,1,0,1,1,0,0,1\n",
        "democrat,0,1,1,0,0,0,1,1,0,0,1,0,0,1,1,1\n",
        "republican,0,1,0,1,1,1,0,0,0,1,0,1,1,0,0,1\n",
        "democrat,0,0,1,0,0,1,1,1,1,1,0,1,0,1,1,1\n",
        "republican,0,0,0,1,1,1,0,0,0,1,0,1,0,0,0,1\n",
        "democrat,0,0,1,0,0,0,1,1,1,0,0,0,0,1,1,1\n",
        "democrat,1,0,1,0,0,1,1,1,0,0,0,1,1,1,0,1\n",
        "democrat,1,1,1,0,0,0,1,1,0,1,0,0,0,1,1,1\n",
        "republican,0,0,0,1,1,1,1,0,0,1,0,0,0,1,1,1\n",
        "republican,0,0,0,1,0,1,1,1,1,0,0,1,1,1,0,1\n",
        "democrat,1,0,1,0,0,0,1,1,1,1,1,0,0,1,1,1\n",
        "republican,0,0,0,0,1,1,1,0,0,0,0,0,0,1,1,1\n",
        "democrat,0,1,1,0,0,0,1,1,0,1,0,0,1,1,1,1\n",
        "democrat,1,0,1,0,0,0,0,1,1,1,0,0,0,0,1,1\n",
        "democrat,1,0,1,0,0,0,1,1,1,1,1,0,0,1,1,1\n",
        "democrat,0,0,1,0,1,0,1,1,1,0,0,0,0,1,0,1\n",
        "republican,0,1,0,1,1,1,1,0,0,0,0,0,1,1,0,0\n",
        "republican,0,0,1,0,1,1,1,1,0,1,0,0,1,1,0,1\n",
        "democrat,1,0,1,0,0,0,1,1,0,0,1,0,0,1,1,1\n",
        "republican,0,1,0,1,1,1,0,0,0,0,0,1,1,0,0,0\n",
        "republican,0,1,0,1,1,1,0,0,0,0,0,1,1,0,0,0\n",
        "democrat,1,1,1,0,0,1,1,1,1,0,0,0,0,1,1,1\n",
        "republican,0,1,0,1,1,1,0,0,0,0,0,1,1,0,0,1\n",
        "democrat,1,0,1,0,0,0,1,1,1,1,0,0,0,1,0,1\n",
        "democrat,1,0,1,0,0,0,1,1,1,1,0,0,0,1,1,1\n",
        "republican,0,0,0,1,1,0,0,0,0,0,0,1,0,0,0,0\n",
        "republican,0,0,0,1,1,0,0,0,0,0,0,1,0,0,0,1\n",
        "democrat,0,0,1,0,0,0,1,1,1,0,1,0,0,1,1,1\n",
        "democrat,1,0,1,0,0,0,1,1,1,0,0,0,0,1,0,1\n",
        "democrat,1,0,1,0,0,0,1,1,1,1,0,0,0,1,0,1\n",
        "democrat,1,0,1,0,0,1,1,1,1,0,0,0,0,1,0,1\n",
        "democrat,1,0,1,0,0,0,1,1,1,1,0,0,1,1,1,1\n",
        "democrat,1,0,1,0,0,0,1,1,1,0,0,0,0,1,1,1\n",
        "democrat,1,0,1,0,0,0,1,1,1,0,0,0,0,1,1,1\n",
        "democrat,1,0,1,0,0,0,1,1,1,1,0,0,0,1,0,1\n",
        "republican,0,0,0,1,1,1,0,0,0,1,0,1,0,0,0,1\n",
        "republican,1,0,0,0,0,0,1,1,1,1,0,0,0,1,0,1\n",
        "democrat,1,0,1,0,0,0,1,1,1,0,0,0,0,1,1,1\n",
        "democrat,1,0,1,0,0,0,1,1,1,0,0,0,0,1,0,1\n",
        "democrat,1,1,1,0,0,0,1,1,1,0,0,0,0,1,1,1\n",
        "democrat,0,1,1,0,0,1,1,1,1,0,0,0,0,1,0,1\n",
        "democrat,1,0,1,0,0,0,1,1,1,1,0,0,0,1,1,1\n",
        "republican,0,0,0,1,1,0,1,1,0,1,0,1,1,1,0,1\n",
        "republican,1,0,0,1,1,0,1,0,0,1,0,0,0,1,1,1\n",
        "democrat,0,0,1,0,1,1,0,0,0,0,0,0,1,0,0,0\n",
        "republican,0,0,0,1,1,1,0,0,0,0,0,1,1,0,1,0\n",
        "republican,0,0,1,1,1,1,1,1,0,1,0,0,0,1,0,1\n",
        "republican,0,0,0,1,1,1,0,0,0,0,0,1,1,0,0,1\n",
        "republican,0,0,0,1,1,1,0,0,0,1,0,1,1,0,0,0\n",
        "democrat,0,0,1,0,0,0,1,1,1,1,0,0,0,1,0,1\n",
        "republican,1,0,1,1,1,1,1,1,0,0,0,0,0,1,0,1\n",
        "republican,1,0,0,1,1,1,0,0,0,1,0,0,1,0,0,0\n",
        "republican,0,0,0,1,1,1,0,0,0,0,0,1,1,0,0,1\n",
        "democrat,0,0,1,0,0,1,1,1,1,1,1,0,0,1,0,1\n",
        "democrat,0,0,1,0,0,1,1,1,1,1,1,0,0,1,1,1\n",
        "democrat,0,0,1,0,0,1,1,1,0,1,1,1,0,1,1,1\n",
        "democrat,1,1,1,0,0,1,1,1,1,0,1,0,1,1,0,1\n",
        "democrat,1,1,1,0,1,1,0,1,0,1,1,0,1,0,1,1\n",
        "democrat,1,1,1,0,1,1,0,1,0,1,1,0,1,0,0,1\n",
        "democrat,1,0,1,0,1,1,1,1,1,1,0,0,1,1,0,1\n",
        "democrat,1,0,1,0,0,1,1,1,1,1,0,0,0,1,0,1\n",
        "democrat,1,0,1,0,0,1,1,1,0,1,1,0,1,1,1,1\n",
        "democrat,1,1,1,0,0,1,1,1,1,1,1,0,1,1,1,1\n",
        "democrat,0,1,1,0,0,1,1,1,0,1,1,0,1,1,0,1\n",
        "republican,0,1,0,1,1,1,1,1,0,1,0,1,1,1,0,1\n",
        "republican,0,0,1,1,1,1,0,0,0,1,0,1,1,0,1,1\n",
        "democrat,1,1,1,0,0,1,1,1,1,1,0,0,1,1,1,1\n",
        "democrat,0,1,0,0,0,0,1,1,1,1,1,0,0,1,1,1\n",
        "democrat,0,1,1,0,0,1,1,1,1,1,0,0,1,1,1,1\n",
        "republican,0,0,0,1,1,0,1,1,1,1,0,1,1,1,0,1\n",
        "democrat,0,0,1,0,0,1,1,1,1,0,0,0,0,1,1,1\n",
        "republican,0,0,0,1,1,1,1,0,0,1,0,1,1,1,0,1\n",
        "republican,0,0,0,1,1,1,0,0,0,0,0,1,1,0,0,0\n",
        "republican,0,1,0,1,1,1,0,0,0,1,0,1,1,0,0,1\n",
        "republican,0,0,0,1,1,1,0,0,0,1,0,1,1,0,0,0\n",
        "republican,0,0,0,1,1,1,0,0,0,0,0,1,1,0,0,0\n",
        "democrat,1,0,1,0,0,1,1,1,1,0,0,0,0,1,0,1\n",
        "republican,0,0,0,1,1,1,0,0,0,1,0,1,1,0,0,0\n",
        "democrat,1,0,0,0,0,1,1,1,1,1,0,0,0,1,1,1\n",
        "republican,0,0,0,1,1,1,0,0,0,1,0,1,1,0,1,0\n",
        "democrat,0,0,1,0,0,1,1,1,1,1,0,0,1,1,0,1\n",
        "democrat,1,1,1,0,0,0,1,1,1,1,0,0,0,1,1,1\n",
        "republican,0,1,1,1,1,1,0,0,0,1,0,1,1,0,0,1\n",
        "republican,0,1,0,1,1,1,1,1,0,0,1,1,1,1,1,1\n",
        "republican,0,1,1,1,1,1,1,1,0,0,0,0,1,1,1,1\n",
        "democrat,0,0,0,0,0,1,0,1,1,0,1,1,1,0,1,0\n",
        "democrat,1,0,0,0,0,0,1,1,1,1,0,0,0,1,1,1\n",
        "democrat,0,0,1,0,0,0,1,1,1,0,0,0,0,1,1,1\n",
        "democrat,1,0,1,0,0,0,1,1,1,0,0,0,0,1,1,1\n",
        "democrat,0,1,1,0,0,1,0,1,1,1,0,0,1,0,0,1\n",
        "democrat,1,1,1,0,0,0,1,1,1,1,0,0,1,1,0,1\n",
        "democrat,1,1,1,0,1,1,0,1,0,0,1,0,1,0,0,1\n",
        "democrat,1,1,1,0,1,1,0,1,0,1,0,0,1,0,0,1\n",
        "republican,0,1,0,1,1,1,0,0,0,0,1,1,1,0,0,0\n",
        "democrat,0,1,0,0,1,1,0,0,0,0,0,1,1,0,0,1\n",
        "democrat,1,1,0,1,0,0,1,1,1,0,1,0,0,1,0,1\n",
        "republican,0,1,0,1,1,1,0,0,0,0,0,1,1,0,0,1\n",
        "democrat,1,1,1,0,0,0,1,1,1,0,1,0,0,1,0,1\n",
        "democrat,1,0,1,0,0,1,1,1,1,1,0,0,0,1,1,1\n",
        "republican,0,1,0,1,1,1,0,0,0,1,0,1,1,0,0,0\n",
        "democrat,1,0,1,0,0,0,1,1,1,0,0,0,0,1,1,1\n",
        "democrat,1,0,1,0,0,0,1,1,1,0,1,0,0,1,1,1\n",
        "democrat,0,0,1,0,0,0,1,1,1,0,0,0,0,1,1,1\n",
        "democrat,0,1,1,0,0,1,1,1,0,0,1,1,0,1,1,1\n",
        "republican,0,0,0,1,1,1,0,0,0,1,1,1,1,0,0,1\n",
        "democrat,0,0,1,0,0,1,1,1,0,0,1,0,0,1,0,1\n",
        "democrat,1,0,1,0,0,0,1,1,1,0,0,0,0,1,1,1\n",
        "democrat,1,0,1,0,0,0,1,1,1,1,0,0,0,1,1,1\n",
        "republican,1,0,0,1,1,1,0,0,0,0,1,1,1,0,0,0\n",
        "republican,0,0,0,1,1,1,0,0,0,1,1,1,0,0,0,1\n",
        "democrat,0,0,1,0,0,1,1,1,1,1,1,0,1,1,1,1\n",
        "democrat,0,1,1,0,1,1,1,0,0,1,1,0,1,1,1,1\n",
        "republican,0,0,0,1,1,0,1,0,1,1,0,0,0,1,0,1\n",
        "democrat,0,0,1,0,0,0,1,1,1,1,1,0,0,1,1,1\n",
        "republican,0,0,0,1,1,1,1,0,0,1,0,1,0,1,1,1\n",
        "republican,0,0,0,1,1,1,0,0,0,1,0,1,1,0,0,1\n",
        "republican,1,0,0,1,1,1,0,0,0,1,0,1,1,0,0,0\n",
        "democrat,1,0,1,0,0,0,1,1,1,1,0,1,0,1,1,1\n",
        "republican,0,1,1,1,1,1,1,1,1,0,0,1,1,1,0,1\n",
        "democrat,0,1,0,0,0,1,1,0,1,0,1,0,0,1,1,1\n",
        "republican,0,0,1,1,1,1,1,1,1,1,0,1,1,1,1,1\n",
        "democrat,0,1,0,1,0,1,1,1,1,0,1,0,1,1,1,1\n",
        "republican,0,0,1,1,1,1,1,0,0,1,1,1,1,1,0,1\n",
        "democrat,0,1,1,0,0,1,1,1,1,1,0,0,0,1,1,1\n",
        "republican,1,0,1,1,0,0,0,1,1,1,0,0,0,0,1,1\n",
        "republican,0,0,0,1,1,1,0,0,0,0,0,1,1,0,0,0\n",
        "republican,0,0,0,1,1,1,0,0,0,0,0,1,1,0,0,0\n",
        "democrat,1,1,1,0,0,1,1,1,1,1,1,1,1,1,0,1\n",
        "republican,0,0,0,1,1,1,0,0,0,1,0,1,1,0,0,1\n",
        "democrat,1,0,1,0,0,1,1,1,1,1,0,0,1,1,0,1\n",
        "democrat,1,0,1,0,1,1,1,0,1,1,0,0,1,1,0,1\n",
        "democrat,1,1,1,0,0,1,1,1,1,1,1,1,1,1,0,1\n",
        "republican,1,1,0,1,1,1,0,0,0,1,1,0,1,0,0,0\n",
        "republican,1,1,0,1,1,1,0,0,0,0,1,0,1,0,0,1\n",
        "democrat,0,1,0,0,1,1,0,0,0,1,1,0,1,0,0,0\n",
        "democrat,1,0,1,0,0,0,1,1,0,1,1,0,0,1,0,1\n",
        "democrat,1,1,1,0,1,1,1,1,0,1,1,0,0,1,1,1\n",
        "democrat,0,1,1,0,0,1,1,1,0,1,0,0,0,1,1,1\n",
        "republican,0,1,0,1,1,1,0,0,0,0,0,0,1,0,0,1\n",
        "democrat,1,1,1,0,1,1,1,1,0,1,0,0,0,1,1,1\n",
        "democrat,1,1,1,0,1,0,1,1,1,1,0,0,0,1,1,1\n",
        "democrat,0,1,1,1,1,1,0,0,0,0,1,1,1,0,0,0\n",
        "democrat,0,1,1,0,1,1,0,1,0,1,0,0,1,0,0,1\n",
        "republican,0,1,0,1,1,1,0,0,0,0,0,1,1,0,0,1\n",
        "democrat,0,1,0,1,1,1,0,0,0,0,1,1,0,0,0,0\n",
        "democrat,1,0,1,0,0,0,1,1,1,0,1,0,0,1,1,1\n",
        "republican,0,1,0,1,1,1,1,1,0,0,0,0,1,1,0,1\n",
        "republican,0,0,0,1,1,1,0,0,0,0,0,1,1,0,0,1\n",
        "republican,0,0,0,1,1,1,0,0,0,0,0,1,1,0,0,1\n",
        "democrat,1,1,1,0,0,1,1,1,1,0,1,0,1,1,1,1\n",
        "democrat,1,1,1,0,1,1,1,1,1,1,1,0,1,1,0,1\n",
        "democrat,1,1,0,1,1,1,0,0,0,0,1,0,1,0,0,1\n",
        "democrat,1,1,1,0,1,1,0,1,1,1,1,0,0,0,0,1\n",
        "democrat,1,1,1,1,1,1,0,0,0,0,1,1,1,0,0,1\n",
        "democrat,1,1,0,0,1,1,0,0,0,0,1,1,1,0,1,0\n",
        "democrat,0,0,1,0,1,1,0,1,0,0,1,0,0,0,0,1\n",
        "democrat,1,1,1,0,1,1,0,1,1,0,1,0,0,0,0,1\n",
        "democrat,0,1,1,1,1,1,0,0,0,0,0,1,1,0,0,1\n",
        "democrat,1,0,1,0,0,0,1,1,1,1,1,0,0,1,1,1\n",
        "democrat,0,0,0,0,1,1,1,0,0,0,1,1,0,1,0,1\n",
        "democrat,1,1,0,0,0,0,0,1,1,0,1,0,0,0,1,0\n",
        "republican,1,1,0,1,1,1,0,0,0,0,1,1,1,0,0,1\n",
        "republican,0,0,1,0,0,1,0,1,1,0,0,1,1,0,0,1\n",
        "democrat,1,1,1,0,1,1,0,0,0,0,1,0,1,0,0,1\n",
        "democrat,1,1,1,0,0,0,0,1,0,0,1,0,0,0,1,1\n",
        "democrat,1,1,1,0,1,1,0,1,0,0,1,0,1,0,1,1\n",
        "democrat,1,1,0,0,1,1,0,0,0,0,1,0,1,0,0,1\n",
        "democrat,0,1,1,0,1,1,0,1,0,0,0,0,0,0,0,1\n",
        "republican,0,1,0,1,1,1,0,0,0,1,0,1,1,0,0,0\n",
        "republican,0,1,0,1,1,1,0,1,0,0,0,0,1,0,0,1\n",
        "republican,0,1,0,1,1,1,0,0,0,1,1,1,1,0,0,0\n",
        "republican,0,0,1,1,0,1,1,1,1,1,0,1,0,1,0,1\n",
        "republican,0,1,0,1,1,1,0,0,0,1,0,1,1,0,0,0\n",
        "republican,1,1,0,1,1,1,0,0,0,1,0,1,1,0,0,1\n",
        "republican,0,0,0,1,1,1,0,0,0,0,0,1,1,0,0,1\n",
        "democrat,1,0,1,0,1,1,0,0,1,1,0,0,1,0,0,1\n",
        "democrat,0,0,0,1,1,1,0,0,0,0,1,1,1,0,0,0\n",
        "democrat,1,0,1,0,0,1,1,1,1,0,0,1,1,1,1,1\n",
        "republican,0,0,0,1,1,1,0,0,0,0,0,1,1,0,0,0\n",
        "republican,0,0,0,1,1,1,0,0,0,0,1,1,1,0,0,1\n",
        "democrat,1,0,1,0,0,1,1,1,1,1,1,0,0,1,0,1\n",
        "republican,0,0,0,1,1,1,0,0,0,1,0,1,1,0,0,1\n",
        "republican,1,1,1,1,1,1,1,1,0,1,0,0,1,1,0,1\n",
        "democrat,1,1,1,0,0,0,1,1,1,0,0,0,0,1,0,1\n",
        "democrat,0,1,1,0,0,1,1,1,0,1,0,0,0,1,0,1\n",
        "republican,1,1,0,1,1,1,0,0,0,1,0,0,1,0,0,1\n",
        "democrat,1,1,1,0,0,0,1,1,1,1,1,0,1,1,0,1\n",
        "democrat,1,1,1,0,0,0,1,1,0,1,0,0,0,1,0,1\n",
        "democrat,1,1,1,0,0,0,1,1,1,0,0,0,0,1,0,1\n",
        "republican,1,1,1,1,1,1,1,1,0,1,0,0,1,1,0,1\n",
        "democrat,0,1,1,0,1,1,1,1,0,0,1,0,1,1,1,1\n",
        "democrat,0,0,1,0,0,1,1,1,1,0,1,0,0,1,1,1\n",
        "democrat,0,1,1,0,0,1,1,1,1,0,1,0,0,1,1,1\n",
        "democrat,0,1,1,0,0,1,1,1,1,1,1,0,1,1,1,1\n",
        "democrat,0,0,1,0,0,0,1,1,0,1,1,0,0,1,1,1\n",
        "democrat,1,0,1,0,0,0,1,1,1,1,0,0,0,1,1,1\n",
        "republican,0,0,0,1,1,1,1,1,0,1,0,1,1,1,0,1\n",
        "democrat,0,0,1,0,0,0,1,1,1,1,0,0,1,1,1,1\n",
        "democrat,1,0,1,0,1,0,1,1,1,1,0,1,0,1,1,1\n",
        "republican,0,0,1,1,1,1,0,0,1,1,0,1,1,0,0,1\n",
        "democrat,0,0,1,0,0,0,1,1,1,1,0,0,0,1,0,1\n",
        "republican,0,0,0,1,1,1,0,0,0,0,1,1,1,0,0,1\n",
        "republican,0,0,0,1,1,1,1,1,0,1,0,1,1,1,0,1\n",
        "republican,0,1,0,1,1,1,0,0,0,1,0,1,1,0,0,0\n",
        "\"\"\"\n",
        "\n",
        "dataset_1 = pd.read_csv(StringIO(votes_dataset), names=['y'] + [f'x{i}' for i in range(16)])\n",
        "dataset_1"
      ],
      "execution_count": null,
      "outputs": [
        {
          "output_type": "execute_result",
          "data": {
            "text/html": [
              "<div>\n",
              "<style scoped>\n",
              "    .dataframe tbody tr th:only-of-type {\n",
              "        vertical-align: middle;\n",
              "    }\n",
              "\n",
              "    .dataframe tbody tr th {\n",
              "        vertical-align: top;\n",
              "    }\n",
              "\n",
              "    .dataframe thead th {\n",
              "        text-align: right;\n",
              "    }\n",
              "</style>\n",
              "<table border=\"1\" class=\"dataframe\">\n",
              "  <thead>\n",
              "    <tr style=\"text-align: right;\">\n",
              "      <th></th>\n",
              "      <th>y</th>\n",
              "      <th>x0</th>\n",
              "      <th>x1</th>\n",
              "      <th>x2</th>\n",
              "      <th>x3</th>\n",
              "      <th>x4</th>\n",
              "      <th>x5</th>\n",
              "      <th>x6</th>\n",
              "      <th>x7</th>\n",
              "      <th>x8</th>\n",
              "      <th>x9</th>\n",
              "      <th>x10</th>\n",
              "      <th>x11</th>\n",
              "      <th>x12</th>\n",
              "      <th>x13</th>\n",
              "      <th>x14</th>\n",
              "      <th>x15</th>\n",
              "    </tr>\n",
              "  </thead>\n",
              "  <tbody>\n",
              "    <tr>\n",
              "      <th>0</th>\n",
              "      <td>republican</td>\n",
              "      <td>0</td>\n",
              "      <td>1</td>\n",
              "      <td>0</td>\n",
              "      <td>1</td>\n",
              "      <td>1</td>\n",
              "      <td>1</td>\n",
              "      <td>0</td>\n",
              "      <td>0</td>\n",
              "      <td>0</td>\n",
              "      <td>1</td>\n",
              "      <td>0</td>\n",
              "      <td>1</td>\n",
              "      <td>1</td>\n",
              "      <td>0</td>\n",
              "      <td>0</td>\n",
              "      <td>1</td>\n",
              "    </tr>\n",
              "    <tr>\n",
              "      <th>1</th>\n",
              "      <td>republican</td>\n",
              "      <td>0</td>\n",
              "      <td>1</td>\n",
              "      <td>0</td>\n",
              "      <td>1</td>\n",
              "      <td>1</td>\n",
              "      <td>1</td>\n",
              "      <td>0</td>\n",
              "      <td>0</td>\n",
              "      <td>0</td>\n",
              "      <td>0</td>\n",
              "      <td>0</td>\n",
              "      <td>1</td>\n",
              "      <td>1</td>\n",
              "      <td>0</td>\n",
              "      <td>0</td>\n",
              "      <td>1</td>\n",
              "    </tr>\n",
              "    <tr>\n",
              "      <th>2</th>\n",
              "      <td>democrat</td>\n",
              "      <td>0</td>\n",
              "      <td>1</td>\n",
              "      <td>1</td>\n",
              "      <td>0</td>\n",
              "      <td>1</td>\n",
              "      <td>1</td>\n",
              "      <td>0</td>\n",
              "      <td>0</td>\n",
              "      <td>0</td>\n",
              "      <td>0</td>\n",
              "      <td>1</td>\n",
              "      <td>0</td>\n",
              "      <td>1</td>\n",
              "      <td>0</td>\n",
              "      <td>0</td>\n",
              "      <td>0</td>\n",
              "    </tr>\n",
              "    <tr>\n",
              "      <th>3</th>\n",
              "      <td>democrat</td>\n",
              "      <td>0</td>\n",
              "      <td>1</td>\n",
              "      <td>1</td>\n",
              "      <td>0</td>\n",
              "      <td>1</td>\n",
              "      <td>1</td>\n",
              "      <td>0</td>\n",
              "      <td>0</td>\n",
              "      <td>0</td>\n",
              "      <td>0</td>\n",
              "      <td>1</td>\n",
              "      <td>0</td>\n",
              "      <td>1</td>\n",
              "      <td>0</td>\n",
              "      <td>0</td>\n",
              "      <td>1</td>\n",
              "    </tr>\n",
              "    <tr>\n",
              "      <th>4</th>\n",
              "      <td>democrat</td>\n",
              "      <td>1</td>\n",
              "      <td>1</td>\n",
              "      <td>1</td>\n",
              "      <td>0</td>\n",
              "      <td>1</td>\n",
              "      <td>1</td>\n",
              "      <td>0</td>\n",
              "      <td>0</td>\n",
              "      <td>0</td>\n",
              "      <td>0</td>\n",
              "      <td>1</td>\n",
              "      <td>0</td>\n",
              "      <td>1</td>\n",
              "      <td>0</td>\n",
              "      <td>1</td>\n",
              "      <td>1</td>\n",
              "    </tr>\n",
              "    <tr>\n",
              "      <th>...</th>\n",
              "      <td>...</td>\n",
              "      <td>...</td>\n",
              "      <td>...</td>\n",
              "      <td>...</td>\n",
              "      <td>...</td>\n",
              "      <td>...</td>\n",
              "      <td>...</td>\n",
              "      <td>...</td>\n",
              "      <td>...</td>\n",
              "      <td>...</td>\n",
              "      <td>...</td>\n",
              "      <td>...</td>\n",
              "      <td>...</td>\n",
              "      <td>...</td>\n",
              "      <td>...</td>\n",
              "      <td>...</td>\n",
              "      <td>...</td>\n",
              "    </tr>\n",
              "    <tr>\n",
              "      <th>430</th>\n",
              "      <td>republican</td>\n",
              "      <td>0</td>\n",
              "      <td>0</td>\n",
              "      <td>1</td>\n",
              "      <td>1</td>\n",
              "      <td>1</td>\n",
              "      <td>1</td>\n",
              "      <td>0</td>\n",
              "      <td>0</td>\n",
              "      <td>1</td>\n",
              "      <td>1</td>\n",
              "      <td>0</td>\n",
              "      <td>1</td>\n",
              "      <td>1</td>\n",
              "      <td>0</td>\n",
              "      <td>0</td>\n",
              "      <td>1</td>\n",
              "    </tr>\n",
              "    <tr>\n",
              "      <th>431</th>\n",
              "      <td>democrat</td>\n",
              "      <td>0</td>\n",
              "      <td>0</td>\n",
              "      <td>1</td>\n",
              "      <td>0</td>\n",
              "      <td>0</td>\n",
              "      <td>0</td>\n",
              "      <td>1</td>\n",
              "      <td>1</td>\n",
              "      <td>1</td>\n",
              "      <td>1</td>\n",
              "      <td>0</td>\n",
              "      <td>0</td>\n",
              "      <td>0</td>\n",
              "      <td>1</td>\n",
              "      <td>0</td>\n",
              "      <td>1</td>\n",
              "    </tr>\n",
              "    <tr>\n",
              "      <th>432</th>\n",
              "      <td>republican</td>\n",
              "      <td>0</td>\n",
              "      <td>0</td>\n",
              "      <td>0</td>\n",
              "      <td>1</td>\n",
              "      <td>1</td>\n",
              "      <td>1</td>\n",
              "      <td>0</td>\n",
              "      <td>0</td>\n",
              "      <td>0</td>\n",
              "      <td>0</td>\n",
              "      <td>1</td>\n",
              "      <td>1</td>\n",
              "      <td>1</td>\n",
              "      <td>0</td>\n",
              "      <td>0</td>\n",
              "      <td>1</td>\n",
              "    </tr>\n",
              "    <tr>\n",
              "      <th>433</th>\n",
              "      <td>republican</td>\n",
              "      <td>0</td>\n",
              "      <td>0</td>\n",
              "      <td>0</td>\n",
              "      <td>1</td>\n",
              "      <td>1</td>\n",
              "      <td>1</td>\n",
              "      <td>1</td>\n",
              "      <td>1</td>\n",
              "      <td>0</td>\n",
              "      <td>1</td>\n",
              "      <td>0</td>\n",
              "      <td>1</td>\n",
              "      <td>1</td>\n",
              "      <td>1</td>\n",
              "      <td>0</td>\n",
              "      <td>1</td>\n",
              "    </tr>\n",
              "    <tr>\n",
              "      <th>434</th>\n",
              "      <td>republican</td>\n",
              "      <td>0</td>\n",
              "      <td>1</td>\n",
              "      <td>0</td>\n",
              "      <td>1</td>\n",
              "      <td>1</td>\n",
              "      <td>1</td>\n",
              "      <td>0</td>\n",
              "      <td>0</td>\n",
              "      <td>0</td>\n",
              "      <td>1</td>\n",
              "      <td>0</td>\n",
              "      <td>1</td>\n",
              "      <td>1</td>\n",
              "      <td>0</td>\n",
              "      <td>0</td>\n",
              "      <td>0</td>\n",
              "    </tr>\n",
              "  </tbody>\n",
              "</table>\n",
              "<p>435 rows × 17 columns</p>\n",
              "</div>"
            ],
            "text/plain": [
              "              y  x0  x1  x2  x3  x4  x5  ...  x9  x10  x11  x12  x13  x14  x15\n",
              "0    republican   0   1   0   1   1   1  ...   1    0    1    1    0    0    1\n",
              "1    republican   0   1   0   1   1   1  ...   0    0    1    1    0    0    1\n",
              "2      democrat   0   1   1   0   1   1  ...   0    1    0    1    0    0    0\n",
              "3      democrat   0   1   1   0   1   1  ...   0    1    0    1    0    0    1\n",
              "4      democrat   1   1   1   0   1   1  ...   0    1    0    1    0    1    1\n",
              "..          ...  ..  ..  ..  ..  ..  ..  ...  ..  ...  ...  ...  ...  ...  ...\n",
              "430  republican   0   0   1   1   1   1  ...   1    0    1    1    0    0    1\n",
              "431    democrat   0   0   1   0   0   0  ...   1    0    0    0    1    0    1\n",
              "432  republican   0   0   0   1   1   1  ...   0    1    1    1    0    0    1\n",
              "433  republican   0   0   0   1   1   1  ...   1    0    1    1    1    0    1\n",
              "434  republican   0   1   0   1   1   1  ...   1    0    1    1    0    0    0\n",
              "\n",
              "[435 rows x 17 columns]"
            ]
          },
          "metadata": {
            "tags": []
          },
          "execution_count": 3
        }
      ]
    },
    {
      "cell_type": "markdown",
      "metadata": {
        "id": "Gw04KOd7InEL"
      },
      "source": [
        "~~Vejamos a mesma informação em um gráfico de radar (gráfico polar)~~"
      ]
    },
    {
      "cell_type": "markdown",
      "metadata": {
        "id": "Jx0ownmpKY85"
      },
      "source": [
        "### Implementação do modelo"
      ]
    },
    {
      "cell_type": "markdown",
      "metadata": {
        "id": "rvs8hnUHKryA"
      },
      "source": [
        "#### `NaiveBayesBayesianoBinario`\n",
        "\n",
        "`NaiveBayesBayesianoBinario`\n",
        "\n",
        "* @param a: Vetor coluna de parâmetros `a` da distribuição Beta\n",
        "* @param b: Vetor coluna de parâmetros `b` da distribuição Beta\n",
        "* @param α: Parâmetros da distribuição Dirichlet. Defina como um vetor coluna"
      ]
    },
    {
      "cell_type": "code",
      "metadata": {
        "id": "Vd6b_V_9KYqQ"
      },
      "source": [
        "class NaiveBayesBayesianoBinario:\n",
        "    def __init__(self, a, b, α):\n",
        "        \"\"\"\n",
        "        `NaiveBayesBayesianoBinario`\n",
        " \n",
        "        @param a: Vetor coluna de parâmetros `a` da distribuição Beta\n",
        "        @param b: Vetor coluna de parâmetros `b` da distribuição Beta\n",
        "        @param α: Parâmetros da distribuição Dirichlet. Defina como um vetor coluna\n",
        "        \"\"\"\n",
        "        self.a = a\n",
        "        self.b = b\n",
        "        self.α = α\n",
        "\n",
        "        self.π = None\n",
        "        self.θ = None\n",
        "\n",
        "    def fit(self, X, y):\n",
        "        N, D = X.shape\n",
        "\n",
        "        df = pd.DataFrame(X, columns=[f'x{i}' for i in range(D)])\n",
        "        df['y'] = y\n",
        "\n",
        "        # Beta\n",
        "        𝔼_beta = lambda Ndc, N: (Ndc + self.b) / (N + self.a + self.b)\n",
        "       \n",
        "        Ndc = df.groupby('y').sum().to_numpy().T\n",
        "\n",
        "        self.θ = 𝔼_beta(Ndc, N).T\n",
        "\n",
        "        # Dirichlet\n",
        "        𝔼_dir = lambda Nc, N, α: (Nc + α) / (N + α.sum())\n",
        "\n",
        "        Nc = df.groupby('y').size().to_numpy().reshape((-1, 1))\n",
        "\n",
        "        self.π = 𝔼_dir(Nc, N, self.α)\n",
        "    \n",
        "    def predict(self, X):\n",
        "        Ber = lambda k, p: (p**k) * (1-p)**(1-k)\n",
        "        Σ = lambda x: np.sum(x, axis=1)\n",
        "        log = np.log\n",
        "\n",
        "        argmax = lambda a, b: (zeros < ones).astype(np.int0).reshape((-1, 1))\n",
        "\n",
        "        zeros = log(self.π[0, 0]) + Σ(log(Ber(X, self.θ[0])))\n",
        "        ones  = log(self.π[1, 0]) + Σ(log(Ber(X, self.θ[1])))\n",
        "        \n",
        "        return argmax(zeros, ones)"
      ],
      "execution_count": null,
      "outputs": []
    },
    {
      "cell_type": "markdown",
      "metadata": {
        "id": "JztG1zMaYWI3"
      },
      "source": [
        "### Treinamento (estimação) do modelo\n",
        "\n",
        "Após a separação dos dados em conjuntos de treino e de teste, iremos ver alguns gráficos do modelo referentes ao conjunto de treino, com o intuito de auxiliar na definição dos hiperparâmetros do modelo."
      ]
    },
    {
      "cell_type": "markdown",
      "metadata": {
        "id": "DXc_TUPXwf66"
      },
      "source": [
        "#### Separação do conjunto de dados: Treinamento e teste\n",
        "\n",
        "O conjunto de dados foi separada em 80% para treinamento e 20% para teste."
      ]
    },
    {
      "cell_type": "code",
      "metadata": {
        "colab": {
          "base_uri": "https://localhost:8080/"
        },
        "id": "Bv7ExRtWsb_Y",
        "outputId": "d0d7962e-f155-4495-b9e8-9a3cee25925b"
      },
      "source": [
        "from sklearn.model_selection import train_test_split\n",
        "\n",
        "X = dataset_1[[f'x{i}' for i in range(16)]].to_numpy()\n",
        "y = (dataset_1[['y']] == 'republican').to_numpy(dtype=np.int0)\n",
        "\n",
        "X_train, X_test, y_train, y_test = train_test_split(X, y, test_size=0.2, random_state=42)\n",
        "\n",
        "print(f\"\"\"\n",
        "Considerado \n",
        " - y == 0: Democrat\n",
        " - y == 1: Republican\n",
        "\n",
        "Tamanhos\n",
        "- X_train: {X_train.shape}\n",
        "- X_test: {X_test.shape}\n",
        "- y_train: {y_train.shape}\n",
        "- y_test: {y_test.shape} \n",
        "\"\"\".strip())"
      ],
      "execution_count": null,
      "outputs": [
        {
          "output_type": "stream",
          "text": [
            "Considerado \n",
            " - y == 0: Democrat\n",
            " - y == 1: Republican\n",
            "\n",
            "Tamanhos\n",
            "- X_train: (348, 16)\n",
            "- X_test: (87, 16)\n",
            "- y_train: (348, 1)\n",
            "- y_test: (87, 1)\n"
          ],
          "name": "stdout"
        }
      ]
    },
    {
      "cell_type": "markdown",
      "metadata": {
        "id": "Aptla1yjFsjj"
      },
      "source": [
        "#### Visualizações para `votes_dataset.csv` (somente dados de treinamento)\n",
        "\n",
        "Antes de definir os parâmetros do modelo, vamos ver alguns gráficos do modelo."
      ]
    },
    {
      "cell_type": "code",
      "metadata": {
        "colab": {
          "base_uri": "https://localhost:8080/",
          "height": 420
        },
        "id": "V15E9VtiFsB7",
        "outputId": "03b87a21-f787-4531-b76a-77b475fbfeff"
      },
      "source": [
        "def plot_colunas(X, y):\n",
        "    N, D = X.shape\n",
        "\n",
        "    df = pd.DataFrame(X, columns=[f'x{i}' for i in range(D)])\n",
        "    df['y'] = y\n",
        "\n",
        "    df.groupby('y').mean().T.plot.bar(\n",
        "        title='Média dos votos por partido para cada um dos projetos de lei\\n$E_{p(x_i|y)}[x_i|y]$',\n",
        "        color=['b', 'r'],\n",
        "        figsize=(12, 6),\n",
        "    )\n",
        "    plt.legend(['democrat', 'republican'])\n",
        "\n",
        "plot_colunas(X_train, y_train)"
      ],
      "execution_count": null,
      "outputs": [
        {
          "output_type": "display_data",
          "data": {
            "image/png": "[encoded data removed]",
            "text/plain": [
              "<Figure size 864x432 with 1 Axes>"
            ]
          },
          "metadata": {
            "tags": [],
            "needs_background": "light"
          }
        }
      ]
    },
    {
      "cell_type": "code",
      "metadata": {
        "colab": {
          "base_uri": "https://localhost:8080/",
          "height": 542
        },
        "id": "OlwWi21cIm1z",
        "outputId": "398ac484-596d-4eb2-e1d5-b218b7c6bf5f"
      },
      "source": [
        "def plot_radar(X, y):\n",
        "    N, D = X.shape\n",
        "\n",
        "    df = pd.DataFrame(X, columns=[f'x{i}' for i in range(D)])\n",
        "    df['y'] = y\n",
        "\n",
        "    # Baseado em: https://www.kaggle.com/typewind/draw-a-radar-chart-with-python-in-a-simple-way\n",
        "    labels = [f'x{i}' for i in range(D)]\n",
        "\n",
        "    stats_democrat, stats_republican = df.groupby('y').mean().values\n",
        "\n",
        "    stats_democrat = np.concatenate((stats_democrat, [stats_democrat[0]]))\n",
        "    stats_republican = np.concatenate((stats_republican, [stats_republican[0]]))\n",
        "\n",
        "    angles = np.linspace(0, 2*np.pi, len(labels), endpoint=False)\n",
        "    angles = np.concatenate((angles, [angles[0]]))\n",
        "\n",
        "    fig = plt.figure()\n",
        "    ax = fig.add_subplot(111, polar=True)\n",
        "\n",
        "    ax.plot(angles, stats_democrat, 'o-', linewidth=2, color='b')\n",
        "    ax.fill(angles, stats_democrat, alpha=0.25, color='b')\n",
        "    ax.plot(angles, stats_republican, 'o-', linewidth=2, color='r')\n",
        "    ax.fill(angles, stats_republican, alpha=0.25, color='r')\n",
        "\n",
        "    ax.set_thetagrids(angles * 180/np.pi, labels)\n",
        "    ax.set_title('Média dos votos por partido para cada um dos projetos de lei\\n$E_{p(x_i|y)}[x_i|y]$')\n",
        "    ax.grid(True)\n",
        "    ax.legend(['democrat', 'republican'])\n",
        "\n",
        "plot_radar(X, y)"
      ],
      "execution_count": null,
      "outputs": [
        {
          "output_type": "display_data",
          "data": {
            "image/png": "[encoded data removed]",
            "text/plain": [
              "<Figure size 576x576 with 1 Axes>"
            ]
          },
          "metadata": {
            "tags": [],
            "needs_background": "light"
          }
        }
      ]
    },
    {
      "cell_type": "code",
      "metadata": {
        "id": "ElhFF6IlAdE2"
      },
      "source": [
        "#@title Hiperparâmetros do modelo\n",
        "#@markdown Defina os hiperparâmetros do modelo que serão utilizados.\n",
        "\n",
        "#@markdown #### Parâmetros da priori (distribuição **Beta**)\n",
        "#@markdown Defina quais os `x_d` que você considera que são mais propensos aos democratas.\n",
        "#@markdown Insira separado por vírgula (`,`) e sem espaço.\n",
        "\n",
        "x_d_mais_favoraveis_democrat = \"x3,x4,x5,x11,x12\" #@param {type:\"string\"}\n",
        "\n",
        "#@markdown Defina quais os `x_d` que você considera que são mais propensos aos democratas.\n",
        "#@markdown Insira separado por vírgula (`,`) e sem espaço.\n",
        "x_d_mais_favoraveis_republican = \"x2,x6,x7,x8,x13,x14\" #@param {type:\"string\"}\n",
        "\n",
        "#@markdown Defina os parâmetros `a` e `b` que serão aplicados\n",
        "#@markdown às características em que você acha `republican`\n",
        "#@markdown é mais favorável ao projeto de lei\n",
        "a_republican =  2#@param {type: \"number\"}\n",
        "b_republican =  3#@param {type: \"number\"}\n",
        "\n",
        "#@markdown Defina os parâmetros `a` e `b` que serão aplicados\n",
        "#@markdown às características em que você acha `democrat`\n",
        "#@markdown é mais favorável ao projeto de lei\n",
        "a_democrat =  3#@param {type: \"number\"}\n",
        "b_democrat =  2#@param {type: \"number\"}\n",
        "\n",
        "#@markdown Defina os parâmetros `a` e `b` que serão aplicados\n",
        "#@markdown às características em que você acha\n",
        "#@markdown que não há um favoritismo claro\n",
        "\n",
        "#@markdown Defina `a` e `b` que serão aplicado aos que não trazem favoritismo.\n",
        "a_sem_favoravel = 2 #@param {type: \"number\"}\n",
        "b_sem_favoravel = 2 #@param {type: \"number\"}\n",
        "\n",
        "#@markdown #### Parâmetros da posteriori (distribuição de **Dirichlet**)\n",
        "#@markdown Defina os `α_c`:\n",
        "α_0 = 2 #@param {type: \"number\"}\n",
        "α_1 = 2 #@param {type: \"number\"}\n",
        "\n",
        "###########################\n",
        "binomial_θ = pd.DataFrame({\n",
        "    'a': [a_sem_favoravel for d in range(16)],\n",
        "    'b': [a_sem_favoravel for d in range(16)]\n",
        "}, index=[f'x{d}' for d in range(16)])\n",
        "\n",
        "x_d_democrat = x_d_mais_favoraveis_democrat.split(',')\n",
        "x_d_republican = x_d_mais_favoraveis_republican.split(',')\n",
        "\n",
        "for x_d in x_d_democrat:\n",
        "    binomial_θ.loc[x_d].a = a_republican\n",
        "    binomial_θ.loc[x_d].b = b_republican\n",
        "\n",
        "for x_d in x_d_republican:\n",
        "    binomial_θ.loc[x_d].a = a_democrat\n",
        "    binomial_θ.loc[x_d].b = b_democrat\n",
        "\n",
        "α = np.array([\n",
        "    [α_0],\n",
        "    [α_1],\n",
        "])"
      ],
      "execution_count": null,
      "outputs": []
    },
    {
      "cell_type": "code",
      "metadata": {
        "colab": {
          "base_uri": "https://localhost:8080/",
          "height": 365
        },
        "id": "HHJfT4jFSVHg",
        "outputId": "5e90e984-bd15-4da9-ea65-dd59f5829044"
      },
      "source": [
        "print(\"Parâmetros definidos\")\n",
        "\n",
        "Math(sp.latex(f\"\"\"\n",
        "\\\\begin{{aligned}}\n",
        "\\\\boldsymbol{{a}} &= {sp.latex(sp.Matrix(binomial_θ.a))}, ~~~~~~\n",
        "\\\\boldsymbol{{b}} &= {sp.latex(sp.Matrix(binomial_θ.b))}, ~~~~~~\n",
        "\\\\boldsymbol{{\\\\alpha}} &= {sp.latex(sp.Matrix(α))}.\n",
        "\\\\end{{aligned}}\n",
        "\"\"\"))"
      ],
      "execution_count": null,
      "outputs": [
        {
          "output_type": "stream",
          "text": [
            "Parâmetros definidos\n"
          ],
          "name": "stdout"
        },
        {
          "output_type": "execute_result",
          "data": {
            "text/latex": "$$\n\\begin{aligned}\n\\boldsymbol{a} &= \\left[\\begin{matrix}2\\\\2\\\\3\\\\2\\\\2\\\\2\\\\3\\\\3\\\\3\\\\2\\\\2\\\\2\\\\2\\\\3\\\\3\\\\2\\end{matrix}\\right], ~~~~~~\n\\boldsymbol{b} &= \\left[\\begin{matrix}2\\\\2\\\\2\\\\3\\\\3\\\\3\\\\2\\\\2\\\\2\\\\2\\\\2\\\\3\\\\3\\\\2\\\\2\\\\2\\end{matrix}\\right], ~~~~~~\n\\boldsymbol{\\alpha} &= \\left[\\begin{matrix}2\\\\2\\end{matrix}\\right].\n\\end{aligned}\n$$",
            "text/plain": [
              "<IPython.core.display.Math object>"
            ]
          },
          "metadata": {
            "tags": []
          },
          "execution_count": 9
        }
      ]
    },
    {
      "cell_type": "markdown",
      "metadata": {
        "id": "TiYScf9Qw3oM"
      },
      "source": [
        "#### Treinamento"
      ]
    },
    {
      "cell_type": "code",
      "metadata": {
        "id": "XqJgBw7gs8zr"
      },
      "source": [
        "modelo_1 = NaiveBayesBayesianoBinario(\n",
        "    binomial_θ.a.to_numpy().reshape((-1, 1)),\n",
        "    binomial_θ.b.to_numpy().reshape((-1, 1)),\n",
        "    α\n",
        ")\n",
        "modelo_1.fit(X_train, y_train)"
      ],
      "execution_count": null,
      "outputs": []
    },
    {
      "cell_type": "markdown",
      "metadata": {
        "id": "oQ_5wpT5svtX"
      },
      "source": [
        "### Priori aprendida (responsabilidades / $\\boldsymbol{{\\pi}}$)\n",
        "\n",
        "Responsabilidades estimadas a partir da base de treino:\n",
        "$$\n",
        "\\hat{\\pi} = \\frac{N_c}{N}\n",
        "$$"
      ]
    },
    {
      "cell_type": "code",
      "metadata": {
        "colab": {
          "base_uri": "https://localhost:8080/",
          "height": 63
        },
        "id": "FWQ1NSq5YV_Q",
        "outputId": "d0132a28-a2f9-49d5-fcd9-19b785087e65"
      },
      "source": [
        "Math(sp.latex(f\"\"\"\n",
        "\\\\begin{{aligned}}\n",
        "\\\\boldsymbol{{\\\\pi}} &= {sp.latex(sp.Matrix(modelo_1.π))}\n",
        "\\\\end{{aligned}}\n",
        "\"\"\"))"
      ],
      "execution_count": null,
      "outputs": [
        {
          "output_type": "execute_result",
          "data": {
            "text/latex": "$$\n\\begin{aligned}\n\\boldsymbol{\\pi} &= \\left[\\begin{matrix}0.605113636363636\\\\0.394886363636364\\end{matrix}\\right]\n\\end{aligned}\n$$",
            "text/plain": [
              "<IPython.core.display.Math object>"
            ]
          },
          "metadata": {
            "tags": []
          },
          "execution_count": 11
        }
      ]
    },
    {
      "cell_type": "markdown",
      "metadata": {
        "id": "pOV1dG8stv1I"
      },
      "source": [
        "### Posteriori aprendida"
      ]
    },
    {
      "cell_type": "code",
      "metadata": {
        "colab": {
          "base_uri": "https://localhost:8080/",
          "height": 348
        },
        "id": "RWaUxXUUtvZb",
        "outputId": "8ce9f461-db36-45d2-e9c2-42adc55bb78d"
      },
      "source": [
        "Math(sp.latex(f\"\"\"\n",
        "\\\\begin{{aligned}}\n",
        "\\\\boldsymbol{{\\\\theta}}_0 = {sp.latex(sp.Matrix(modelo_1.θ[0, :]))} ~~~~~~\n",
        "\\\\boldsymbol{{\\\\theta}}_1 = {sp.latex(sp.Matrix(modelo_1.θ[1, :]))}.\n",
        "\\\\end{{aligned}}\n",
        "\"\"\"))"
      ],
      "execution_count": null,
      "outputs": [
        {
          "output_type": "execute_result",
          "data": {
            "text/latex": "$$\n\\begin{aligned}\n\\boldsymbol{\\theta}_0 = \\left[\\begin{matrix}0.355113636363636\\\\0.272727272727273\\\\0.526912181303116\\\\0.0424929178470255\\\\0.158640226628895\\\\0.30028328611898\\\\0.478753541076487\\\\0.495750708215297\\\\0.41643059490085\\\\0.28125\\\\0.295454545454546\\\\0.0963172804532578\\\\0.189801699716714\\\\0.478753541076487\\\\0.382436260623229\\\\0.582386363636364\\end{matrix}\\right] ~~~~~~\n\\boldsymbol{\\theta}_1 = \\left[\\begin{matrix}0.0795454545454545\\\\0.173295454545455\\\\0.056657223796034\\\\0.385269121813031\\\\0.382436260623229\\\\0.362606232294618\\\\0.11614730878187\\\\0.0878186968838527\\\\0.0424929178470255\\\\0.230113636363636\\\\0.0482954545454545\\\\0.31728045325779\\\\0.342776203966006\\\\0.11614730878187\\\\0.0396600566572238\\\\0.28125\\end{matrix}\\right].\n\\end{aligned}\n$$",
            "text/plain": [
              "<IPython.core.display.Math object>"
            ]
          },
          "metadata": {
            "tags": []
          },
          "execution_count": 12
        }
      ]
    },
    {
      "cell_type": "markdown",
      "metadata": {
        "id": "wreBfF7VqWv-"
      },
      "source": [
        "### Gráfico solicitado na questão"
      ]
    },
    {
      "cell_type": "code",
      "metadata": {
        "colab": {
          "base_uri": "https://localhost:8080/",
          "height": 410
        },
        "id": "Fa3uLA-vnIDd",
        "outputId": "9c60983a-deaf-4e31-ca5b-c80f5dcd0811"
      },
      "source": [
        "# Baseado em: https://medium.com/@dtuk81/confusion-matrix-visualization-fc31e3f30fea\n",
        "from sklearn.metrics import confusion_matrix\n",
        "\n",
        "def plot_matriz_confusao(y_true, y_predict, title, ax=None):\n",
        "    ax = ax if ax != None else plt.axes()\n",
        "\n",
        "    matrix_confusao = confusion_matrix(y_true, y_predict)\n",
        "\n",
        "    percentuais = [\"{0:.2%}\".format(value) for value in matrix_confusao.flatten()/np.sum(matrix_confusao)]\n",
        "    labels = [f'{quantidade}\\n({percentual})' for quantidade, percentual in zip(matrix_confusao.flatten(), percentuais)]\n",
        "    \n",
        "    sns.heatmap(\n",
        "        matrix_confusao,\n",
        "        annot=np.array(labels).reshape(matrix_confusao.shape),\n",
        "        fmt='',\n",
        "        cmap='binary',\n",
        "        xticklabels=['Democrat', 'Republican'],\n",
        "        yticklabels=['Democrat', 'Republican'],\n",
        "        ax=ax\n",
        "    )\n",
        "    ax.set_ylabel('True')\n",
        "    ax.set_xlabel('Predict')\n",
        "    ax.set_title(title)\n",
        "\n",
        "f, (ax1, ax2) = plt.subplots(1, 2, sharey=True, figsize=(16, 6))\n",
        "plot_matriz_confusao(y_train, modelo_1.predict(X_train), 'Matriz de confusão - Treino', ax=ax1)\n",
        "plot_matriz_confusao(y_test, modelo_1.predict(X_test), 'Matriz de confusão - Teste', ax=ax2)"
      ],
      "execution_count": null,
      "outputs": [
        {
          "output_type": "display_data",
          "data": {
            "image/png": "[encoded data removed]",
            "text/plain": [
              "<Figure size 1152x432 with 4 Axes>"
            ]
          },
          "metadata": {
            "tags": [],
            "needs_background": "light"
          }
        }
      ]
    },
    {
      "cell_type": "markdown",
      "metadata": {
        "id": "Z9XQJy7wwIeJ"
      },
      "source": [
        "## Bônus: Utilização do modelo `NaiveBayesBinario`\n",
        "\n",
        "Versão não Bayesiana:\n",
        "\n",
        "\n",
        "`NaiveBayesBinario`: Naive Bayes não binário\n",
        "$p(\\boldsymbol{x}|y=c, \\boldsymbol{\\theta}) = \\prod_{d=1}^D p(x_d|y=c, \\boldsymbol{\\theta}_{dc})$\n",
        "\n",
        "Para atributos binários, utilizamos uma distribuição de Bernoulli:\n",
        "$p(x_d|y=c, \\boldsymbol{\\theta}_{dc}) = Ber(x_d|\\theta_dc)$\n",
        "\n",
        "* @param π: Vetor coluna de probabilidades a priori das classes (i.e, $p(\\boldsymbol{y})$\n",
        "* @param η: Ruído para evitar que ocorra probabilidades zeros"
      ]
    },
    {
      "cell_type": "code",
      "metadata": {
        "id": "BpLuWCzdwISM"
      },
      "source": [
        "class NaiveBayesBinario:\n",
        "    def __init__(self, π, η=1e-2):\n",
        "        \"\"\"\n",
        "        `NaiveBayesBinario`: Naive Bayes não binário\n",
        "        $p(\\boldsymbol{x}|y=c, \\boldsymbol{\\theta}) = \\prod_{d=1}^D p(x_d|y=c, \\boldsymbol{\\theta}_{dc})$\n",
        "\n",
        "        Para atributos binários, utilizamos uma distribuição de Bernoulli:\n",
        "        $p(x_d|y=c, \\boldsymbol{\\theta}_{dc}) = Ber(x_d|\\theta_dc)$\n",
        "\n",
        "        @param π: Vetor coluna de probabilidades a priori das classes (i.e, $p(\\boldsymbol{y})$\n",
        "        @param η: Ruído para evitar que ocorra probabilidades zeros\n",
        "        \"\"\"\n",
        "        self.π = π\n",
        "        self.η = η\n",
        "\n",
        "        self.θ = None\n",
        "\n",
        "    def fit(self, X, y):\n",
        "        N, D = X.shape\n",
        "        df = pd.DataFrame(X, columns=[f'x{i}' for i in range(D)])\n",
        "        df['y'] = y\n",
        "\n",
        "        self.θ = df.groupby('y').mean().to_numpy() + self.η\n",
        "    \n",
        "    def predict(self, X):\n",
        "        Ber = lambda k, p: (p**k) * (1-p)**(1-k)\n",
        "        Π = lambda x: np.prod(x, axis=1)\n",
        "        argmax = lambda a, b: (zeros < ones).astype(np.int0).reshape((-1, 1))\n",
        "\n",
        "        zeros = self.π[0, 0] * Π(Ber(X, self.θ[0]))\n",
        "        ones  = self.π[1, 0] * Π(Ber(X, self.θ[1]))\n",
        "        \n",
        "        return argmax(zeros, ones)"
      ],
      "execution_count": null,
      "outputs": []
    },
    {
      "cell_type": "markdown",
      "metadata": {
        "id": "fHJ2JfZbwb1i"
      },
      "source": [
        "### Treinamento (estimação) do modelo\n",
        "\n",
        "- Foi utilizada a mesma separação do conjunto de dados"
      ]
    },
    {
      "cell_type": "markdown",
      "metadata": {
        "id": "LbYH-Srb14cR"
      },
      "source": [
        "#### Priori considerada (responsabilidades / $\\boldsymbol{{\\pi}}$)\n",
        "\n",
        "Responsabilidades estimadas a partir da base de treino:\n",
        "$$\n",
        "\\hat{\\pi}_c = \\frac{N_c}{N}\n",
        "$$"
      ]
    },
    {
      "cell_type": "code",
      "metadata": {
        "colab": {
          "base_uri": "https://localhost:8080/",
          "height": 63
        },
        "id": "BKEfE0Yu1384",
        "outputId": "f4e23f7b-bd56-4618-ceb5-97e6c5a00dab"
      },
      "source": [
        "π = np.array([\n",
        "    [1 - y_train.mean()],\n",
        "    [y_train.mean()]\n",
        "])\n",
        "\n",
        "Math(sp.latex(f\"\"\"\n",
        "\\\\begin{{aligned}}\n",
        "\\\\boldsymbol{{\\\\pi}} &= {sp.latex(sp.Matrix(π))}\n",
        "\\\\end{{aligned}}\n",
        "\"\"\"))"
      ],
      "execution_count": null,
      "outputs": [
        {
          "output_type": "execute_result",
          "data": {
            "text/latex": "$$\n\\begin{aligned}\n\\boldsymbol{\\pi} &= \\left[\\begin{matrix}0.60632183908046\\\\0.39367816091954\\end{matrix}\\right]\n\\end{aligned}\n$$",
            "text/plain": [
              "<IPython.core.display.Math object>"
            ]
          },
          "metadata": {
            "tags": []
          },
          "execution_count": 15
        }
      ]
    },
    {
      "cell_type": "markdown",
      "metadata": {
        "id": "O8B8z7sg16yB"
      },
      "source": [
        "#### Treinamento"
      ]
    },
    {
      "cell_type": "code",
      "metadata": {
        "id": "B2R0QJ5SwbgY"
      },
      "source": [
        "modelo_2 = NaiveBayesBinario(π)\n",
        "modelo_2.fit(X_train, y_train)"
      ],
      "execution_count": null,
      "outputs": []
    },
    {
      "cell_type": "markdown",
      "metadata": {
        "id": "5cvJGc_Ww9Be"
      },
      "source": [
        "### Posteriori aprendida"
      ]
    },
    {
      "cell_type": "code",
      "metadata": {
        "colab": {
          "base_uri": "https://localhost:8080/",
          "height": 348
        },
        "id": "Qx_wbNt4w85m",
        "outputId": "d663c82b-9532-4709-bc12-11c5c2fd4134"
      },
      "source": [
        "Math(sp.latex(f\"\"\"\n",
        "\\\\begin{{aligned}}\n",
        "\\\\boldsymbol{{\\\\theta}}_0 = {sp.latex(sp.Matrix(modelo_2.θ[0, :]))} ~~~~~~\n",
        "\\\\boldsymbol{{\\\\theta}}_1 = {sp.latex(sp.Matrix(modelo_2.θ[1, :]))}.\n",
        "\\\\end{{aligned}}\n",
        "\"\"\"))"
      ],
      "execution_count": null,
      "outputs": [
        {
          "output_type": "execute_result",
          "data": {
            "text/latex": "$$\n\\begin{aligned}\n\\boldsymbol{\\theta}_0 = \\left[\\begin{matrix}0.592938388625592\\\\0.455497630331754\\\\0.882037914691943\\\\0.0668720379146919\\\\0.261184834123223\\\\0.498151658767772\\\\0.801469194312796\\\\0.829905213270142\\\\0.697203791469194\\\\0.469715639810427\\\\0.493412322274882\\\\0.156919431279621\\\\0.313317535545024\\\\0.801469194312796\\\\0.640331753554502\\\\0.972085308056872\\end{matrix}\\right] ~~~~~~\n\\boldsymbol{\\theta}_1 = \\left[\\begin{matrix}0.19978102189781\\\\0.440656934306569\\\\0.141386861313869\\\\0.980802919708029\\\\0.973503649635036\\\\0.922408759124088\\\\0.294671532846715\\\\0.221678832116788\\\\0.104890510948905\\\\0.586642335766423\\\\0.11948905109489\\\\0.805620437956204\\\\0.871313868613139\\\\0.294671532846715\\\\0.0975912408759124\\\\0.718029197080292\\end{matrix}\\right].\n\\end{aligned}\n$$",
            "text/plain": [
              "<IPython.core.display.Math object>"
            ]
          },
          "metadata": {
            "tags": []
          },
          "execution_count": 17
        }
      ]
    },
    {
      "cell_type": "markdown",
      "metadata": {
        "id": "INNsaerfxII0"
      },
      "source": [
        "### Gráfico solicitado na questão"
      ]
    },
    {
      "cell_type": "code",
      "metadata": {
        "colab": {
          "base_uri": "https://localhost:8080/",
          "height": 410
        },
        "id": "cFlhGF27xAto",
        "outputId": "08cae669-8b86-41f3-f237-619aca836c69"
      },
      "source": [
        "f, (ax1, ax2) = plt.subplots(1, 2, sharey=True, figsize=(16, 6))\n",
        "plot_matriz_confusao(y_train, modelo_2.predict(X_train), 'Matriz de confusão - Treino', ax=ax1)\n",
        "plot_matriz_confusao(y_test, modelo_2.predict(X_test), 'Matriz de confusão - Teste', ax=ax2)"
      ],
      "execution_count": null,
      "outputs": [
        {
          "output_type": "display_data",
          "data": {
            "image/png": "[encoded data removed]",
            "text/plain": [
              "<Figure size 1152x432 with 4 Axes>"
            ]
          },
          "metadata": {
            "tags": [],
            "needs_background": "light"
          }
        }
      ]
    }
  ]
}